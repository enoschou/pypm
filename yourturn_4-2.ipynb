{
 "cells": [
  {
   "cell_type": "markdown",
   "metadata": {},
   "source": [
    "## CKDStager by pure instance method"
   ]
  },
  {
   "cell_type": "code",
   "execution_count": 1,
   "metadata": {},
   "outputs": [],
   "source": [
    "class CKDStager:\n",
    "    \n",
    "    def __init__(self):\n",
    "        self._stages = [100, 90, 60, 30, 15, 0]\n",
    "    \n",
    "    def stage(self, creatinine, gender, age):\n",
    "        egfr = self.egfr(creatinine, gender, age)\n",
    "        for i, v in enumerate(self._stages):\n",
    "            if egfr >= v:\n",
    "                return i, egfr\n",
    "    \n",
    "    def egfr(self, creatinine, gender, age):\n",
    "        e = 186 * (creatinine ** -1.154) * (age ** -0.203)\n",
    "        if gender.lower() in ['female', 'f']: \n",
    "            e *= 0.742\n",
    "    \n",
    "        return e"
   ]
  },
  {
   "cell_type": "code",
   "execution_count": 2,
   "metadata": {},
   "outputs": [
    {
     "name": "stdout",
     "output_type": "stream",
     "text": [
      "性別 (f / m)： m\n",
      "年齡： 21\n",
      "血清肌酸酐(mg/dL)： 1.02\n",
      "計算 1.腎臟病分期 2.eGFR：1\n",
      "男性，21 歲，血清肌酸酐 1.02 mg/dL ==> eGFR 97.989 mL/min/1.73m2\n",
      "腎臟病第 1 期\n"
     ]
    }
   ],
   "source": [
    "gen = input('性別 (f / m)： ')\n",
    "age = int(input('年齡： '))\n",
    "cre = float(input('血清肌酸酐(mg/dL)： '))\n",
    "q = input('計算 1.腎臟病分期 2.eGFR：')\n",
    "\n",
    "d = {'m':'男性', 'f':'女性'}\n",
    "c = CKDStager()\n",
    "if q == '1':\n",
    "    s, e = c.stage(cre, gen, age)\n",
    "    print(f'{d[gen]}，{age} 歲，血清肌酸酐 {cre} mg/dL ==> eGFR {e:.3f} mL/min/1.73m2')\n",
    "    print(f'腎臟病第 {s} 期')\n",
    "elif q == '2':\n",
    "    e = c.egfr(cre, gen, age)\n",
    "    print(f'{d[gen]}，{age} 歲，血清肌酸酐 {cre} mg/dL ==> eGFR {e:.3f} mL/min/1.73m2')"
   ]
  },
  {
   "cell_type": "markdown",
   "metadata": {},
   "source": [
    "## CKDStager by static method"
   ]
  },
  {
   "cell_type": "code",
   "execution_count": 3,
   "metadata": {},
   "outputs": [],
   "source": [
    "class CKDStager:\n",
    "    \n",
    "    @staticmethod\n",
    "    def stage(creatinine, gender, age):\n",
    "        stages = [100, 90, 60, 30, 15, 0]\n",
    "        egfr = CKDStager.egfr(creatinine, gender, age)\n",
    "        for i, v in enumerate(stages):\n",
    "            if egfr >= v:\n",
    "                return i, egfr\n",
    "    \n",
    "    @staticmethod\n",
    "    def egfr(creatinine, gender, age):\n",
    "        e = 186 * (creatinine ** -1.154) * (age ** -0.203)\n",
    "        if gender.lower() in ['female', 'f']: \n",
    "            e *= 0.742\n",
    "    \n",
    "        return e"
   ]
  },
  {
   "cell_type": "code",
   "execution_count": 4,
   "metadata": {},
   "outputs": [
    {
     "name": "stdout",
     "output_type": "stream",
     "text": [
      "性別 (f / m)： m\n",
      "年齡： 21\n",
      "血清肌酸酐(mg/dL)： 1.02\n",
      "計算 1.腎臟病分期 2.eGFR：1\n",
      "男性，21 歲，血清肌酸酐 1.02 mg/dL ==> eGFR 97.989 mL/min/1.73m2\n",
      "腎臟病第 1 期\n"
     ]
    }
   ],
   "source": [
    "gen = input('性別 (f / m)： ')\n",
    "age = int(input('年齡： '))\n",
    "cre = float(input('血清肌酸酐(mg/dL)： '))\n",
    "q = input('計算 1.腎臟病分期 2.eGFR：')\n",
    "\n",
    "d = {'m':'男性', 'f':'女性'}\n",
    "if q == '1':\n",
    "    s, e = CKDStager.stage(float(cre), gen, int(age))\n",
    "    print(f'{d[gen]}，{age} 歲，血清肌酸酐 {cre} mg/dL ==> eGFR {e:.3f} mL/min/1.73m2')\n",
    "    print(f'腎臟病第 {s} 期')\n",
    "elif q == '2':\n",
    "    e = CKDStager.egfr(float(cre), gen, int(age))\n",
    "    print(f'{d[gen]}，{age} 歲，血清肌酸酐 {cre} mg/dL ==> eGFR {e:.3f} mL/min/1.73m2')"
   ]
  },
  {
   "cell_type": "markdown",
   "metadata": {},
   "source": [
    "## CKDStager by class method"
   ]
  },
  {
   "cell_type": "code",
   "execution_count": 5,
   "metadata": {},
   "outputs": [],
   "source": [
    "class CKDStager:\n",
    "    _stages = [100, 90, 60, 30, 15, 0]\n",
    "    \n",
    "    @classmethod\n",
    "    def stage(cls, creatinine, gender, age):\n",
    "        egfr = cls.egfr(creatinine, gender, age)\n",
    "        for i, v in enumerate(cls._stages):\n",
    "            if egfr >= v:\n",
    "                return i, egfr\n",
    "    \n",
    "    @classmethod\n",
    "    def egfr(cls, creatinine, gender, age):\n",
    "        e = 186 * (creatinine ** -1.154) * (age ** -0.203)\n",
    "        if gender.lower() in ['female', 'f']: \n",
    "            e *= 0.742\n",
    "    \n",
    "        return e"
   ]
  },
  {
   "cell_type": "code",
   "execution_count": 6,
   "metadata": {},
   "outputs": [
    {
     "name": "stdout",
     "output_type": "stream",
     "text": [
      "性別 (f / m)： m\n",
      "年齡： 21\n",
      "血清肌酸酐(mg/dL)： 1.02\n",
      "計算 1.腎臟病分期 2.eGFR：1\n",
      "男性，21 歲，血清肌酸酐 1.02 mg/dL ==> eGFR 97.989 mL/min/1.73m2\n",
      "腎臟病第 1 期\n"
     ]
    }
   ],
   "source": [
    "gen = input('性別 (f / m)： ')\n",
    "age = int(input('年齡： '))\n",
    "cre = float(input('血清肌酸酐(mg/dL)： '))\n",
    "q = input('計算 1.腎臟病分期 2.eGFR：')\n",
    "\n",
    "d = {'m':'男性', 'f':'女性'}\n",
    "c = CKDStager()\n",
    "if q == '1':\n",
    "    s, e = c.stage(float(cre), gen, int(age))\n",
    "    print(f'{d[gen]}，{age} 歲，血清肌酸酐 {cre} mg/dL ==> eGFR {e:.3f} mL/min/1.73m2')\n",
    "    print(f'腎臟病第 {s} 期')\n",
    "elif q == '2':\n",
    "    e = CKDStager.egfr(float(cre), gen, int(age))\n",
    "    print(f'{d[gen]}，{age} 歲，血清肌酸酐 {cre} mg/dL ==> eGFR {e:.3f} mL/min/1.73m2')"
   ]
  },
  {
   "cell_type": "code",
   "execution_count": null,
   "metadata": {},
   "outputs": [],
   "source": []
  }
 ],
 "metadata": {
  "kernelspec": {
   "display_name": "Python 3",
   "language": "python",
   "name": "python3"
  },
  "language_info": {
   "codemirror_mode": {
    "name": "ipython",
    "version": 3
   },
   "file_extension": ".py",
   "mimetype": "text/x-python",
   "name": "python",
   "nbconvert_exporter": "python",
   "pygments_lexer": "ipython3",
   "version": "3.6.8"
  }
 },
 "nbformat": 4,
 "nbformat_minor": 2
}
