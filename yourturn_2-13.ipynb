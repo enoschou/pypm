{
 "cells": [
  {
   "cell_type": "code",
   "execution_count": 1,
   "metadata": {},
   "outputs": [
    {
     "name": "stdout",
     "output_type": "stream",
     "text": [
      "total 30.7 KM, and Zac run farest\n"
     ]
    }
   ],
   "source": [
    "s = {'David': 3.2, 'Ray': 6,  'Zac': 12, 'Sam': 9.5}\n",
    "total = 0\n",
    "f = 'Unknown'\n",
    "for x in s:\n",
    "    total += s[x]\n",
    "    if f == 'Unknown' or s[x] > s[f]:\n",
    "        f = x\n",
    "print(f'total {total} KM, and {f} run farest')"
   ]
  },
  {
   "cell_type": "code",
   "execution_count": null,
   "metadata": {},
   "outputs": [],
   "source": []
  }
 ],
 "metadata": {
  "kernelspec": {
   "display_name": "Python 3",
   "language": "python",
   "name": "python3"
  },
  "language_info": {
   "codemirror_mode": {
    "name": "ipython",
    "version": 3
   },
   "file_extension": ".py",
   "mimetype": "text/x-python",
   "name": "python",
   "nbconvert_exporter": "python",
   "pygments_lexer": "ipython3",
   "version": "3.6.8"
  }
 },
 "nbformat": 4,
 "nbformat_minor": 2
}
