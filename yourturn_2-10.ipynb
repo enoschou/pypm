{
 "cells": [
  {
   "cell_type": "markdown",
   "metadata": {},
   "source": [
    "## 1"
   ]
  },
  {
   "cell_type": "code",
   "execution_count": 1,
   "metadata": {},
   "outputs": [
    {
     "name": "stdout",
     "output_type": "stream",
     "text": [
      "4 期\n"
     ]
    }
   ],
   "source": [
    "egfr = 26\n",
    "if egfr > 100:\n",
    "    print('正常')\n",
    "elif egfr >= 90:\n",
    "    print('1 期')\n",
    "elif egfr >= 60:\n",
    "    print('2 期')\n",
    "elif egfr >= 30:\n",
    "    print('3 期')\n",
    "elif egfr >= 15:\n",
    "    print('4 期')\n",
    "elif egfr == 0:\n",
    "    print('may be system error?')\n",
    "else:\n",
    "    print('5 期')"
   ]
  },
  {
   "cell_type": "markdown",
   "metadata": {},
   "source": [
    "## 2"
   ]
  },
  {
   "cell_type": "code",
   "execution_count": 5,
   "metadata": {},
   "outputs": [
    {
     "name": "stdout",
     "output_type": "stream",
     "text": [
      "user lose.\n"
     ]
    }
   ],
   "source": [
    "from random import choice\n",
    "computer = choice(['剪刀', '石頭', '布'])\n",
    "user = '石頭'\n",
    "\n",
    "if computer == '剪刀':\n",
    "    print('user win!')\n",
    "elif computer == '石頭':\n",
    "    print('tie.')\n",
    "else:\n",
    "    print('user lose.')"
   ]
  },
  {
   "cell_type": "code",
   "execution_count": null,
   "metadata": {},
   "outputs": [],
   "source": []
  }
 ],
 "metadata": {
  "kernelspec": {
   "display_name": "Python 3",
   "language": "python",
   "name": "python3"
  },
  "language_info": {
   "codemirror_mode": {
    "name": "ipython",
    "version": 3
   },
   "file_extension": ".py",
   "mimetype": "text/x-python",
   "name": "python",
   "nbconvert_exporter": "python",
   "pygments_lexer": "ipython3",
   "version": "3.6.8"
  }
 },
 "nbformat": 4,
 "nbformat_minor": 2
}
