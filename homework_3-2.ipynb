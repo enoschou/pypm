{
 "cells": [
  {
   "cell_type": "markdown",
   "metadata": {},
   "source": [
    "# Homework 3-2"
   ]
  },
  {
   "cell_type": "code",
   "execution_count": 1,
   "metadata": {},
   "outputs": [
    {
     "name": "stdout",
     "output_type": "stream",
     "text": [
      "新遊戲開始\n",
      "[1, 3, 9, 4]\n"
     ]
    }
   ],
   "source": [
    "from random import sample\n",
    "print('新遊戲開始')\n",
    "game = sample(range(10), k=4)\n",
    "print(game)"
   ]
  },
  {
   "cell_type": "code",
   "execution_count": 2,
   "metadata": {},
   "outputs": [],
   "source": [
    "#  輸入數字，若輸入不合規格則回應 None，否則回應符合規格的數字 list\n",
    "def input_digits(digits=4):\n",
    "    xx = input(f'round {i+1:2} 請猜{digits}個數字 ')\n",
    "    xx = xx.strip()  # 移除前後空白\n",
    "    if not xx.isdigit() or len(xx) != digits:  # reject 字數錯誤或非數字輸入\n",
    "        return None\n",
    "    p = [int(x) for x in xx]\n",
    "    if len(set(p)) != digits:  # reject 重複數字\n",
    "        return None\n",
    "    \n",
    "    return p\n",
    "\n",
    "#  判定 ?A ?B\n",
    "def judge(answer, guess):\n",
    "    a = 0\n",
    "    b = 0\n",
    "    for k in range(len(answer)):\n",
    "        if answer[k] == guess[k]:\n",
    "            a += 1\n",
    "            continue\n",
    "        for j in [d for d in range(len(answer)) if d != k]:\n",
    "            if guess[j] == answer[k]:\n",
    "                b += 1\n",
    "                break\n",
    "                \n",
    "    return a, b"
   ]
  },
  {
   "cell_type": "code",
   "execution_count": 3,
   "metadata": {},
   "outputs": [
    {
     "name": "stdout",
     "output_type": "stream",
     "text": [
      "round  1 請猜4個數字 1394\n",
      "round  1: 4A\n"
     ]
    }
   ],
   "source": [
    "for i in range(10): # 最多 10 次，避免卡關\n",
    "    p = input_digits(len(game))\n",
    "    \n",
    "    if not p:\n",
    "        print('輸入錯誤')\n",
    "        continue\n",
    "        \n",
    "    if p == game:\n",
    "        print(f'round {i+1:2}: 4A')\n",
    "        break\n",
    "        \n",
    "    a, b = judge(game, p)\n",
    "            \n",
    "    print(f'round {i+1:2}: {a}A {b}B')"
   ]
  }
 ],
 "metadata": {
  "kernelspec": {
   "display_name": "Python 3",
   "language": "python",
   "name": "python3"
  },
  "language_info": {
   "codemirror_mode": {
    "name": "ipython",
    "version": 3
   },
   "file_extension": ".py",
   "mimetype": "text/x-python",
   "name": "python",
   "nbconvert_exporter": "python",
   "pygments_lexer": "ipython3",
   "version": "3.6.8"
  }
 },
 "nbformat": 4,
 "nbformat_minor": 2
}
