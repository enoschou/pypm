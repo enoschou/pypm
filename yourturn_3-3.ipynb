{
 "cells": [
  {
   "cell_type": "code",
   "execution_count": 1,
   "metadata": {},
   "outputs": [
    {
     "name": "stdout",
     "output_type": "stream",
     "text": [
      "total 189 data\n",
      "1: ['R0002', 'N018', 'lenti', 'MS', 0.0, 1020, 1130, 2.0, time.struct_time(tm_year=2019, tm_mon=7, tm_mday=5, tm_hour=0, tm_min=0, tm_sec=0, tm_wday=4, tm_yday=186, tm_isdst=-1), time.struct_time(tm_year=2019, tm_mon=8, tm_mday=16, tm_hour=0, tm_min=0, tm_sec=0, tm_wday=4, tm_yday=228, tm_isdst=-1), 8000]\n",
      "2: ['R0003', 'N020', 'lenti', 'MS', 0.0, 1225, 1420, 2.0, time.struct_time(tm_year=2019, tm_mon=8, tm_mday=23, tm_hour=0, tm_min=0, tm_sec=0, tm_wday=4, tm_yday=235, tm_isdst=-1), time.struct_time(tm_year=2019, tm_mon=10, tm_mday=4, tm_hour=0, tm_min=0, tm_sec=0, tm_wday=4, tm_yday=277, tm_isdst=-1), 14000]\n",
      "-2: ['R0188', 'N025', 'plate', 'PMMA', 0.08, 1275, 1610, 3.0, time.struct_time(tm_year=2019, tm_mon=11, tm_mday=19, tm_hour=0, tm_min=0, tm_sec=0, tm_wday=1, tm_yday=323, tm_isdst=-1), time.struct_time(tm_year=2019, tm_mon=12, tm_mday=31, tm_hour=0, tm_min=0, tm_sec=0, tm_wday=1, tm_yday=365, tm_isdst=-1), 5000]\n",
      "-1: ['R0189', 'N005', 'plate', 'PMMA', 0.08, 1110, 970, 3.0, time.struct_time(tm_year=2019, tm_mon=11, tm_mday=19, tm_hour=0, tm_min=0, tm_sec=0, tm_wday=1, tm_yday=323, tm_isdst=-1), time.struct_time(tm_year=2019, tm_mon=12, tm_mday=31, tm_hour=0, tm_min=0, tm_sec=0, tm_wday=1, tm_yday=365, tm_isdst=-1), 8000]\n"
     ]
    }
   ],
   "source": [
    "from time import strptime\n",
    "x = []\n",
    "with open('orders_2019.csv') as f:\n",
    "    r = f.readline()\n",
    "    r = f.readline()\n",
    "    while r:\n",
    "        q = r.strip('\\n').split(',')\n",
    "        q[4] = float(q[4].strip('%')) / 100\n",
    "        q[5] = int(q[5])\n",
    "        q[6] = int(q[6])\n",
    "        q[7] = float(q[7])\n",
    "        q[-3] = strptime(q[-3], '%Y-%m-%d')\n",
    "        q[-2] = strptime(q[-2], '%Y-%m-%d')\n",
    "        q[-1] = int(q[-1])\n",
    "        x.append(q)\n",
    "        r = f.readline()\n",
    "\n",
    "print(f'total {len(x)} data')\n",
    "for c in list(range(1, 3)) + list(range(-2, 0)):\n",
    "    print(f'{c}: {x[c]}')"
   ]
  },
  {
   "cell_type": "code",
   "execution_count": null,
   "metadata": {},
   "outputs": [],
   "source": []
  }
 ],
 "metadata": {
  "kernelspec": {
   "display_name": "Python 3",
   "language": "python",
   "name": "python3"
  },
  "language_info": {
   "codemirror_mode": {
    "name": "ipython",
    "version": 3
   },
   "file_extension": ".py",
   "mimetype": "text/x-python",
   "name": "python",
   "nbconvert_exporter": "python",
   "pygments_lexer": "ipython3",
   "version": "3.6.8"
  }
 },
 "nbformat": 4,
 "nbformat_minor": 2
}
