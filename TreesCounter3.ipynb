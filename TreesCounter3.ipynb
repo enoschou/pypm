{
 "cells": [
  {
   "cell_type": "code",
   "execution_count": null,
   "metadata": {},
   "outputs": [],
   "source": [
    "import os\n",
    "from glob import glob\n",
    "\n",
    "class TreesCounter3:\n",
    "    _paths = None\n",
    "    \n",
    "    @classmethod\n",
    "    def __init__(cls, paths):\n",
    "        cls._paths = [p for p in paths]\n",
    "\n",
    "    @classmethod\n",
    "    def count(cls, stage, model, category):\n",
    "        count = 0\n",
    "        for p in cls._paths:\n",
    "            w = os.path.join(p, stage, model, category, '*.jpg')\n",
    "            count += len(glob(w))\n",
    "        \n",
    "        return count\n",
    "    \n",
    "t3 = TreesCounter3(['trees'])\n",
    "print(f\"tree DR: {t3.count('train', 'tree', 'DR')}\")\n",
    "print(f\"leaf AE: {TreesCounter3.count('train', 'leaf', 'AE')}\")\n",
    "\n",
    "t33 = TreesCounter3(['tree'])\n",
    "print(f\"tree DR: {t3.count('train', 'tree', 'DR')}\")\n",
    "print(f\"leaf AE: {TreesCounter3.count('train', 'leaf', 'AE')}\")"
   ]
  },
  {
   "cell_type": "code",
   "execution_count": null,
   "metadata": {},
   "outputs": [],
   "source": []
  }
 ],
 "metadata": {
  "kernelspec": {
   "display_name": "Python 3",
   "language": "python",
   "name": "python3"
  },
  "language_info": {
   "codemirror_mode": {
    "name": "ipython",
    "version": 3
   },
   "file_extension": ".py",
   "mimetype": "text/x-python",
   "name": "python",
   "nbconvert_exporter": "python",
   "pygments_lexer": "ipython3",
   "version": "3.6.8"
  }
 },
 "nbformat": 4,
 "nbformat_minor": 2
}
