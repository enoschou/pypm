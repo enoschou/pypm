{
 "cells": [
  {
   "cell_type": "markdown",
   "metadata": {},
   "source": [
    "## Homework 2-1"
   ]
  },
  {
   "cell_type": "code",
   "execution_count": 1,
   "metadata": {},
   "outputs": [],
   "source": [
    "\"\"\"\n",
    "original data\n",
    "\"\"\"\n",
    "d = {'David': {'h':180, 'w':85},\n",
    "     'John': {'h':172, 'w':72},\n",
    "     'Mary': {'h':158, 'w':51},\n",
    "     'Lora': {'h':160, 'w':49},\n",
    "     'Bill': {'h':168, 'w':70},\n",
    "     'Elsa': {'h':154, 'w':55},\n",
    "     'Golden': {'h':176, 'w':69},\n",
    "     'Jason': {'h':182, 'w':77},\n",
    "     'Larry': {'h':160, 'w':64},\n",
    "     'Michelle': {'h':155, 'w':57}}"
   ]
  },
  {
   "cell_type": "code",
   "execution_count": 2,
   "metadata": {},
   "outputs": [],
   "source": [
    "\"\"\"\n",
    "Create BMI data\n",
    "\"\"\"\n",
    "for name in d:\n",
    "    bmi = d[name]['w'] / (d[name]['h']/100)**2  # bmi algorithm: weight(kg)/height(m)**2\n",
    "    d[name]['bmi'] = bmi"
   ]
  },
  {
   "cell_type": "code",
   "execution_count": 3,
   "metadata": {},
   "outputs": [
    {
     "name": "stdout",
     "output_type": "stream",
     "text": [
      "{'David': {'h': 180, 'w': 85, 'bmi': 26.234567901234566}, 'John': {'h': 172, 'w': 72, 'bmi': 24.337479718766904}, 'Mary': {'h': 158, 'w': 51, 'bmi': 20.429418362441915}, 'Lora': {'h': 160, 'w': 49, 'bmi': 19.140624999999996}, 'Bill': {'h': 168, 'w': 70, 'bmi': 24.801587301587304}, 'Elsa': {'h': 154, 'w': 55, 'bmi': 23.19109461966605}, 'Golden': {'h': 176, 'w': 69, 'bmi': 22.275309917355372}, 'Jason': {'h': 182, 'w': 77, 'bmi': 23.24598478444632}, 'Larry': {'h': 160, 'w': 64, 'bmi': 24.999999999999996}, 'Michelle': {'h': 155, 'w': 57, 'bmi': 23.725286160249738}}\n"
     ]
    }
   ],
   "source": [
    "print(d)"
   ]
  },
  {
   "cell_type": "markdown",
   "metadata": {},
   "source": [
    "## BMI Mean, Variance, Standard deviation "
   ]
  },
  {
   "cell_type": "code",
   "execution_count": 4,
   "metadata": {},
   "outputs": [],
   "source": [
    "mean_bmi = sum([e['bmi'] for e in d.values()]) / len(d)\n",
    "var_bmi = sum([(e['bmi']-mean_bmi)**2 for e in d.values()]) / len(d)\n",
    "std_bmi = var_bmi ** 0.5"
   ]
  },
  {
   "cell_type": "code",
   "execution_count": 5,
   "metadata": {},
   "outputs": [
    {
     "name": "stdout",
     "output_type": "stream",
     "text": [
      "mean bmi is 23.238 cm\n",
      "var bmi is 4.158 cm2\n",
      "std bmi is 2.039 cm\n"
     ]
    }
   ],
   "source": [
    "print(f'mean bmi is {mean_bmi:.3f} cm')\n",
    "print(f'var bmi is {var_bmi:.3f} cm2')\n",
    "print(f'std bmi is {std_bmi:.3f} cm')"
   ]
  },
  {
   "cell_type": "code",
   "execution_count": null,
   "metadata": {},
   "outputs": [],
   "source": []
  }
 ],
 "metadata": {
  "kernelspec": {
   "display_name": "Python 3",
   "language": "python",
   "name": "python3"
  },
  "language_info": {
   "codemirror_mode": {
    "name": "ipython",
    "version": 3
   },
   "file_extension": ".py",
   "mimetype": "text/x-python",
   "name": "python",
   "nbconvert_exporter": "python",
   "pygments_lexer": "ipython3",
   "version": "3.6.8"
  }
 },
 "nbformat": 4,
 "nbformat_minor": 2
}
