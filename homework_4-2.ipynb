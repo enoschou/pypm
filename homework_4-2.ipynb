{
 "cells": [
  {
   "cell_type": "code",
   "execution_count": 64,
   "metadata": {},
   "outputs": [
    {
     "name": "stderr",
     "output_type": "stream",
     "text": [
      "usage: ipykernel_launcher.py [-h] [-d DIGITS] [-R ROUNDS] [-r RUNS] [-v]\n",
      "                             players\n",
      "ipykernel_launcher.py: error: the following arguments are required: players\n"
     ]
    },
    {
     "ename": "SystemExit",
     "evalue": "2",
     "output_type": "error",
     "traceback": [
      "An exception has occurred, use %tb to see the full traceback.\n",
      "\u001b[1;31mSystemExit\u001b[0m\u001b[1;31m:\u001b[0m 2\n"
     ]
    }
   ],
   "source": [
    "from random import sample\n",
    "\n",
    "class BCJudge:\n",
    "    \n",
    "    def __init__(self, players, digits=4, rounds=10, runs=100):\n",
    "        self.digits = digits\n",
    "        self.runs = runs\n",
    "        self.rounds = rounds\n",
    "        self.names = players.split(',')\n",
    "        self.players = [None] * len(self.names)\n",
    "        for i, n in enumerate(self.names):\n",
    "            self.players[i] = getattr(__import__(n), n.capitalize())(digits)\n",
    "    \n",
    "    def play(self, verbose=True):\n",
    "        players_win = [0] * len(self.players)\n",
    "        \n",
    "        for ro in range(self.rounds):\n",
    "            self.game = sample(range(10), k=self.digits)\n",
    "            for p in self.players:\n",
    "                p.renew()\n",
    "            result = [None] * len(self.players)\n",
    "            winners = set()\n",
    "            for r in range(self.runs):\n",
    "                for i, p in enumerate(self.players):\n",
    "                    g = p.guess(result[i])\n",
    "                    result[i] = self._judge(g)\n",
    "                    if result[i][0] == len(self.game):\n",
    "                        winners.add(self.names[i])\n",
    "                        players_win[i] += 1\n",
    "                if winners:\n",
    "                    if verbose:\n",
    "                        print(f\"[round {ro: >2}] {', '.join(winners)} win {str(self.game)} for {r+1} runs\")\n",
    "                    break\n",
    "        \n",
    "            if verbose and not winners:\n",
    "                print(f'[round {ro: >2}] No one wins {str(self.game)} for {r+1} runs')\n",
    "                                                         \n",
    "        return {n:players_win[i] for i, n in enumerate(self.names)}\n",
    "    \n",
    "    #  判定 ?A ?B\n",
    "    def _judge(self, guess):\n",
    "        a = 0\n",
    "        b = 0\n",
    "        for k in range(self.digits):\n",
    "            if self.game[k] == guess[k]:\n",
    "                a += 1\n",
    "                continue\n",
    "            for j in [d for d in range(len(self.game)) if d != k]:\n",
    "                if guess[j] == self.game[k]:\n",
    "                    b += 1\n",
    "                    break\n",
    "                \n",
    "        return a, b\n",
    "                              \n",
    "\n",
    "from sys import argv\n",
    "import argparse\n",
    "\n",
    "parser = argparse.ArgumentParser()\n",
    "parser.add_argument('players', help='players module name, seperated by common')   \n",
    "parser.add_argument('-d', '--digits', default=4, type=int)\n",
    "parser.add_argument('-R', '--rounds', default=10, type=int)\n",
    "parser.add_argument('-r', '--runs', default=100, type=int)\n",
    "parser.add_argument('-v', '--verbose', action='store_true')\n",
    "                          \n",
    "#avoid jupyter notebook exception\n",
    "if argv[0][-21:] == 'ipykernel_launcher.py':\n",
    "    args = parser.parse_args(args=[])\n",
    "else:\n",
    "    args = parser.parse_args()\n",
    "\n",
    "args = parser.parse_args()\n",
    "\n",
    "game = BCJudge(args.players, digits=args.digits, rounds=args.rounds, runs=args.runs)\n",
    "r = game.play(args.verbose)\n",
    "order = sorted(list(r.items()), key=lambda x: x[1], reverse=True)\n",
    "print(f'winners statistics:', end=' ')\n",
    "for o in order:\n",
    "    print(f'{o[0]} {o[1]}/{args.rounds}', end=' ')"
   ]
  },
  {
   "cell_type": "code",
   "execution_count": null,
   "metadata": {},
   "outputs": [],
   "source": []
  }
 ],
 "metadata": {
  "kernelspec": {
   "display_name": "Python 3",
   "language": "python",
   "name": "python3"
  },
  "language_info": {
   "codemirror_mode": {
    "name": "ipython",
    "version": 3
   },
   "file_extension": ".py",
   "mimetype": "text/x-python",
   "name": "python",
   "nbconvert_exporter": "python",
   "pygments_lexer": "ipython3",
   "version": "3.6.8"
  }
 },
 "nbformat": 4,
 "nbformat_minor": 2
}
