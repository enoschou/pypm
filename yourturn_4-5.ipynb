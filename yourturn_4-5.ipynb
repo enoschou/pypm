{
 "cells": [
  {
   "cell_type": "code",
   "execution_count": 1,
   "metadata": {
    "scrolled": true
   },
   "outputs": [],
   "source": [
    "from yourturn_4_4m import CKDStager"
   ]
  },
  {
   "cell_type": "code",
   "execution_count": 2,
   "metadata": {},
   "outputs": [],
   "source": [
    "class CKDStager2(CKDStager):\n",
    "    \n",
    "    def __init__(self, stages):\n",
    "        self._stages = stages"
   ]
  },
  {
   "cell_type": "code",
   "execution_count": 3,
   "metadata": {},
   "outputs": [],
   "source": [
    "def stage2(egfr, stages):\n",
    "    for i, v in enumerate(stages):\n",
    "        if egfr >= v:\n",
    "            return i, egfr "
   ]
  },
  {
   "cell_type": "code",
   "execution_count": 4,
   "metadata": {},
   "outputs": [
    {
     "name": "stdout",
     "output_type": "stream",
     "text": [
      "原始: (2, 85.12727668428649)\n",
      "改動: (1, 85.12727668428649)\n",
      "繼承: (1, 85.12727668428649)\n"
     ]
    }
   ],
   "source": [
    "c1 = CKDStager()\n",
    "c2 = CKDStager2([100,60,0])\n",
    "\n",
    "c = 1.02\n",
    "g = \"m\"\n",
    "a = 42\n",
    "print(f'原始: {c1.stage(c, g, a)}')\n",
    "print(f'改動: {stage2(c1.egfr(c, g, a), [100,60,0])}')\n",
    "print(f'繼承: {c2.stage(c, g, a)}')"
   ]
  },
  {
   "cell_type": "code",
   "execution_count": null,
   "metadata": {},
   "outputs": [],
   "source": []
  }
 ],
 "metadata": {
  "kernelspec": {
   "display_name": "Python 3",
   "language": "python",
   "name": "python3"
  },
  "language_info": {
   "codemirror_mode": {
    "name": "ipython",
    "version": 3
   },
   "file_extension": ".py",
   "mimetype": "text/x-python",
   "name": "python",
   "nbconvert_exporter": "python",
   "pygments_lexer": "ipython3",
   "version": "3.6.8"
  }
 },
 "nbformat": 4,
 "nbformat_minor": 2
}
