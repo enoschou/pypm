{
 "cells": [
  {
   "cell_type": "markdown",
   "metadata": {},
   "source": [
    "# Homework 3-1"
   ]
  },
  {
   "cell_type": "code",
   "execution_count": 7,
   "metadata": {},
   "outputs": [],
   "source": [
    "import glob\n",
    "import os"
   ]
  },
  {
   "cell_type": "code",
   "execution_count": 8,
   "metadata": {},
   "outputs": [],
   "source": [
    "#  針對指定目錄計算 .jpg 檔案數目並依原順序以 list 回覆\n",
    "def calc_cats(paths):\n",
    "    r = []\n",
    "    for path in paths:\n",
    "        t = os.path.join(path, '*.jpg')\n",
    "        r.append(len(glob.glob(t)))\n",
    "        \n",
    "    return r"
   ]
  },
  {
   "cell_type": "code",
   "execution_count": 11,
   "metadata": {},
   "outputs": [
    {
     "name": "stdout",
     "output_type": "stream",
     "text": [
      "cats=['trees\\\\train\\\\tree\\\\AS', 'trees\\\\train\\\\tree\\\\BJ', 'trees\\\\train\\\\tree\\\\CC', 'trees\\\\train\\\\tree\\\\DR', 'trees\\\\train\\\\tree\\\\FM', 'trees\\\\train\\\\tree\\\\KE', 'trees\\\\train\\\\tree\\\\LF', 'trees\\\\train\\\\tree\\\\MA', 'trees\\\\train\\\\tree\\\\MI', 'trees\\\\train\\\\tree\\\\MP', 'trees\\\\train\\\\tree\\\\PC', 'trees\\\\train\\\\tree\\\\RR', 'trees\\\\train\\\\tree\\\\TC', 'trees\\\\train\\\\tree\\\\TM']\n",
      "{'AS': 96, 'BJ': 164, 'CC': 201, 'DR': 105, 'FM': 295, 'KE': 203, 'LF': 150, 'MA': 56, 'MI': 100, 'MP': 68, 'PC': 105, 'RR': 68, 'TC': 62, 'TM': 170, 'level1': 'train', 'level2': 'tree'}\n",
      "cats=['trees\\\\train\\\\leaf\\\\AE', 'trees\\\\train\\\\leaf\\\\DR', 'trees\\\\train\\\\leaf\\\\FF', 'trees\\\\train\\\\leaf\\\\FP', 'trees\\\\train\\\\leaf\\\\LF', 'trees\\\\train\\\\leaf\\\\PF', 'trees\\\\train\\\\leaf\\\\PP', 'trees\\\\train\\\\leaf\\\\TC']\n",
      "{'AE': 189, 'DR': 136, 'FF': 200, 'FP': 291, 'LF': 262, 'PF': 325, 'PP': 164, 'TC': 323, 'level1': 'train', 'level2': 'leaf'}\n",
      "cats=['trees\\\\test\\\\tree\\\\AS', 'trees\\\\test\\\\tree\\\\BJ', 'trees\\\\test\\\\tree\\\\CC', 'trees\\\\test\\\\tree\\\\DR', 'trees\\\\test\\\\tree\\\\FM', 'trees\\\\test\\\\tree\\\\KE', 'trees\\\\test\\\\tree\\\\LF', 'trees\\\\test\\\\tree\\\\MA', 'trees\\\\test\\\\tree\\\\MI', 'trees\\\\test\\\\tree\\\\MP', 'trees\\\\test\\\\tree\\\\PC', 'trees\\\\test\\\\tree\\\\RR', 'trees\\\\test\\\\tree\\\\TC', 'trees\\\\test\\\\tree\\\\TM']\n",
      "{'AS': 35, 'BJ': 33, 'CC': 44, 'DR': 31, 'FM': 50, 'KE': 50, 'LF': 33, 'MA': 28, 'MI': 25, 'MP': 28, 'PC': 30, 'RR': 25, 'TC': 32, 'TM': 45, 'level1': 'test', 'level2': 'tree'}\n",
      "cats=['trees\\\\test\\\\leaf\\\\AE', 'trees\\\\test\\\\leaf\\\\DR', 'trees\\\\test\\\\leaf\\\\FF', 'trees\\\\test\\\\leaf\\\\FP', 'trees\\\\test\\\\leaf\\\\LF', 'trees\\\\test\\\\leaf\\\\PF', 'trees\\\\test\\\\leaf\\\\PP', 'trees\\\\test\\\\leaf\\\\TC']\n",
      "{'AE': 50, 'DR': 50, 'FF': 50, 'FP': 50, 'LF': 50, 'PF': 50, 'PP': 50, 'TC': 50, 'level1': 'test', 'level2': 'leaf'}\n",
      "['AE', 'AS', 'BJ', 'CC', 'DR', 'FF', 'FM', 'FP', 'KE', 'LF', 'MA', 'MI', 'MP', 'PC', 'PF', 'PP', 'RR', 'TC', 'TM']\n"
     ]
    }
   ],
   "source": [
    "lvl1 = ['train', 'test']\n",
    "lvl2 = ['tree', 'leaf']\n",
    "\n",
    "#  建立各類別值計算\n",
    "cats_all = []\n",
    "cats_name_all = set()\n",
    "for L1 in lvl1:\n",
    "    for L2 in lvl2:\n",
    "        p = os.path.join('trees', L1, L2, '*')\n",
    "        cats = glob.glob(p)\n",
    "        print(f'cats={cats}')\n",
    "        cats_name = [cat[-2:] for cat in cats]\n",
    "        cats_name_all |= set(cats_name)\n",
    "        cats_amount = calc_cats(cats)\n",
    "        cats_dict = dict(zip(cats_name, cats_amount))\n",
    "        cats_dict['level1'] = L1\n",
    "        cats_dict['level2'] = L2\n",
    "        cats_all.append(cats_dict)\n",
    "        print(cats_dict)\n",
    "cats_name_all = sorted(list(cats_name_all))\n",
    "print(cats_name_all)"
   ]
  },
  {
   "cell_type": "code",
   "execution_count": 10,
   "metadata": {},
   "outputs": [
    {
     "name": "stdout",
     "output_type": "stream",
     "text": [
      "['level1,level2,\\n', 'train,tree\\n', 'train,leaf\\n', 'test,tree\\n', 'test,leaf\\n']\n"
     ]
    }
   ],
   "source": [
    "#  轉成寫檔格式\n",
    "header = 'level1,level2,' + ','.join(cats_name_all) + '\\n'\n",
    "lines = [header]\n",
    "for x in cats_all:\n",
    "    vals = []\n",
    "    for q in cats_name_all:\n",
    "        vals.append(str(x.get(q, 0)))\n",
    "    vals.insert(0, x['level2'])\n",
    "    vals.insert(0, x['level1'])\n",
    "    lines.append(','.join(vals) + '\\n')\n",
    "print(lines)"
   ]
  },
  {
   "cell_type": "code",
   "execution_count": 5,
   "metadata": {},
   "outputs": [],
   "source": [
    "#  寫檔    \n",
    "with open('trees_calc.csv', 'w') as f:\n",
    "    f.writelines(lines)  "
   ]
  }
 ],
 "metadata": {
  "kernelspec": {
   "display_name": "Python 3",
   "language": "python",
   "name": "python3"
  },
  "language_info": {
   "codemirror_mode": {
    "name": "ipython",
    "version": 3
   },
   "file_extension": ".py",
   "mimetype": "text/x-python",
   "name": "python",
   "nbconvert_exporter": "python",
   "pygments_lexer": "ipython3",
   "version": "3.6.8"
  }
 },
 "nbformat": 4,
 "nbformat_minor": 2
}
