{
 "cells": [
  {
   "cell_type": "code",
   "execution_count": 1,
   "metadata": {},
   "outputs": [
    {
     "name": "stdout",
     "output_type": "stream",
     "text": [
      "run_python5.py's name is yourturn4_6.run_python5\n",
      "<class 'yourturn4_6.yourturn_4_4m.CKDStager'>\n",
      "<class 'yourturn4_6.run_python5.TreesCounter2'>\n"
     ]
    }
   ],
   "source": [
    "import sys, os\n",
    "sys.path.append(os.path.join('.', 'temp'))\n",
    "from yourturn4_6.yourturn_4_4m import CKDStager\n",
    "from yourturn4_6.run_python5 import TreesCounter2\n",
    "\n",
    "print(CKDStager)\n",
    "print(TreesCounter2)"
   ]
  },
  {
   "cell_type": "code",
   "execution_count": null,
   "metadata": {},
   "outputs": [],
   "source": []
  }
 ],
 "metadata": {
  "kernelspec": {
   "display_name": "Python 3",
   "language": "python",
   "name": "python3"
  },
  "language_info": {
   "codemirror_mode": {
    "name": "ipython",
    "version": 3
   },
   "file_extension": ".py",
   "mimetype": "text/x-python",
   "name": "python",
   "nbconvert_exporter": "python",
   "pygments_lexer": "ipython3",
   "version": "3.6.8"
  }
 },
 "nbformat": 4,
 "nbformat_minor": 2
}
