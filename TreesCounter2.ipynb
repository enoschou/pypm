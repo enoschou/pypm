{
 "cells": [
  {
   "cell_type": "code",
   "execution_count": null,
   "metadata": {},
   "outputs": [],
   "source": [
    "import os\n",
    "from glob import glob\n",
    "\n",
    "class TreesCounter2:\n",
    "\n",
    "    @staticmethod\n",
    "    def count(paths, stage, model, category):\n",
    "        count = 0\n",
    "        for p in paths:\n",
    "            w = os.path.join(p, stage, model, category, '*.jpg')\n",
    "            count += len(glob(w))\n",
    "        \n",
    "        return count\n",
    "\n",
    "print(f\"tree DR: {TreesCounter2.count(['trees'], 'train', 'tree', 'DR')}\")\n",
    "print(f\"leaf AE: {TreesCounter2.count(['trees'], 'train', 'leaf', 'AE')}\")"
   ]
  }
 ],
 "metadata": {
  "kernelspec": {
   "display_name": "Python 3",
   "language": "python",
   "name": "python3"
  },
  "language_info": {
   "codemirror_mode": {
    "name": "ipython",
    "version": 3
   },
   "file_extension": ".py",
   "mimetype": "text/x-python",
   "name": "python",
   "nbconvert_exporter": "python",
   "pygments_lexer": "ipython3",
   "version": "3.6.8"
  }
 },
 "nbformat": 4,
 "nbformat_minor": 2
}
