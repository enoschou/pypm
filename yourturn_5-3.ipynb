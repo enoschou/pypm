{
 "cells": [
  {
   "cell_type": "code",
   "execution_count": null,
   "metadata": {},
   "outputs": [],
   "source": [
    "from yourturn_5_2 import WeaG\n",
    "\n",
    "w = WeaG()"
   ]
  },
  {
   "cell_type": "code",
   "execution_count": null,
   "metadata": {},
   "outputs": [],
   "source": [
    "from flask import Flask, request\n",
    "\n",
    "app = Flask(__name__)\n",
    "\n",
    "@app.route('/')\n",
    "def wea():\n",
    "    content = '''\n",
    "    <form action='grab'>\n",
    "        <input type=\"text\" name=\"location\"> <input type=\"submit\" value=\"確定\">\n",
    "    </form>\n",
    "    '''\n",
    "    \n",
    "    return content"
   ]
  },
  {
   "cell_type": "code",
   "execution_count": null,
   "metadata": {},
   "outputs": [],
   "source": [
    "@app.route('/grab')\n",
    "def grab():\n",
    "    loc = request.args.get('location')\n",
    "    r = w.grab(loc)\n",
    "    content = f'''\n",
    "    <form action='grab'>\n",
    "        <input type=\"text\" name=\"location\" value={loc}> <input type=\"submit\" value=\"確定\">\n",
    "    </form>\n",
    "    '''\n",
    "    if r:\n",
    "        a = f'{r[\"O\"]} 溫度:{r[\"T\"]:.1f}度, 濕度:{r[\"H\"]:.0%}, 雨量:{r[\"R\"]:.1f}mm'\n",
    "    else:\n",
    "        a = 'no such site!'\n",
    "    content += a\n",
    "    \n",
    "    return content"
   ]
  },
  {
   "cell_type": "code",
   "execution_count": null,
   "metadata": {},
   "outputs": [],
   "source": [
    "app.run()"
   ]
  }
 ],
 "metadata": {
  "kernelspec": {
   "display_name": "Python 3",
   "language": "python",
   "name": "python3"
  },
  "language_info": {
   "codemirror_mode": {
    "name": "ipython",
    "version": 3
   },
   "file_extension": ".py",
   "mimetype": "text/x-python",
   "name": "python",
   "nbconvert_exporter": "python",
   "pygments_lexer": "ipython3",
   "version": "3.6.8"
  }
 },
 "nbformat": 4,
 "nbformat_minor": 2
}
