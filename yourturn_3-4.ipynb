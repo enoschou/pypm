{
 "cells": [
  {
   "cell_type": "code",
   "execution_count": 1,
   "metadata": {},
   "outputs": [
    {
     "name": "stdout",
     "output_type": "stream",
     "text": [
      "E:\\pypm\n",
      "['.ipynb_checkpoints', 'orders_2019.csv', 'pp.jpg', 'pypm.ipynb', 'reading.txt', 'reading_2.txt', 'titanic_train.csv', 'trees', 'trees_calc.csv', 'yourturn_3-4.ipynb', 'yourturn_3-5.ipynb']\n"
     ]
    }
   ],
   "source": [
    "import os\n",
    "\n",
    "print(os.getcwd())\n",
    "print(os.listdir())"
   ]
  },
  {
   "cell_type": "code",
   "execution_count": 4,
   "metadata": {},
   "outputs": [
    {
     "name": "stdout",
     "output_type": "stream",
     "text": [
      "trees\\train\\tree\\FM\\2019-10-03-11-00-11_336_56.jpg\n",
      "E:\\pypm\\trees\\train\\tree\\FM\\2019-10-03-11-00-11_336_56.jpg\n",
      "True\n"
     ]
    }
   ],
   "source": [
    "f = os.path.join('trees', 'train', 'tree', 'FM', '2019-10-03-11-00-11_336_56.jpg')\n",
    "print(f)\n",
    "print(os.path.abspath(f))\n",
    "print(os.path.exists(f))"
   ]
  },
  {
   "cell_type": "code",
   "execution_count": null,
   "metadata": {},
   "outputs": [],
   "source": []
  }
 ],
 "metadata": {
  "kernelspec": {
   "display_name": "Python 3",
   "language": "python",
   "name": "python3"
  },
  "language_info": {
   "codemirror_mode": {
    "name": "ipython",
    "version": 3
   },
   "file_extension": ".py",
   "mimetype": "text/x-python",
   "name": "python",
   "nbconvert_exporter": "python",
   "pygments_lexer": "ipython3",
   "version": "3.6.8"
  }
 },
 "nbformat": 4,
 "nbformat_minor": 2
}
