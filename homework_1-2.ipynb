{
 "cells": [
  {
   "cell_type": "markdown",
   "metadata": {},
   "source": [
    "## 1"
   ]
  },
  {
   "cell_type": "code",
   "execution_count": 1,
   "metadata": {},
   "outputs": [
    {
     "name": "stdout",
     "output_type": "stream",
     "text": [
      "{'David': {'h': 180, 'w': 85}, 'John': {'h': 172, 'w': 72}, 'Mary': {'h': 158, 'w': 51}, 'Lora': {'h': 160, 'w': 49}, 'Bill': {'h': 168, 'w': 70}, 'Elsa': {'h': 154, 'w': 55}, 'Golden': {'h': 176, 'w': 69}, 'Jason': {'h': 182, 'w': 77}, 'Larry': {'h': 160, 'w': 64}, 'Michelle': {'h': 155, 'w': 57}}\n"
     ]
    }
   ],
   "source": [
    "d = {'David': {'h':180, 'w':85},\n",
    "     'John': {'h':172, 'w':72},\n",
    "     'Mary': {'h':158, 'w':51},\n",
    "     'Lora': {'h':160, 'w':49},\n",
    "     'Bill': {'h':168, 'w':70},\n",
    "     'Elsa': {'h':154, 'w':55},\n",
    "     'Golden': {'h':176, 'w':69},\n",
    "     'Jason': {'h':182, 'w':77},\n",
    "     'Larry': {'h':160, 'w':64},\n",
    "     'Michelle': {'h':155, 'w':57}}\n",
    "\n",
    "print(d)"
   ]
  },
  {
   "cell_type": "code",
   "execution_count": 6,
   "metadata": {},
   "outputs": [
    {
     "name": "stdout",
     "output_type": "stream",
     "text": [
      "Bill's height: 168cm, weight: 70kg\n"
     ]
    }
   ],
   "source": [
    "name = 'Bill'\n",
    "print(f'{name}\\'s height: {d[name][\"h\"]}cm, weight: {d[name][\"w\"]}kg')"
   ]
  },
  {
   "cell_type": "markdown",
   "metadata": {},
   "source": [
    "## 2"
   ]
  },
  {
   "cell_type": "code",
   "execution_count": 7,
   "metadata": {},
   "outputs": [
    {
     "name": "stdout",
     "output_type": "stream",
     "text": [
      "['David', 'John', 'Mary', 'Lora', 'Bill', 'Elsa', 'Golden', 'Jason', 'Larry', 'Michelle']\n",
      "[180, 172, 158, 160, 168, 154, 176, 182, 160, 155]\n",
      "[85, 72, 51, 49, 70, 55, 69, 77, 64, 57]\n"
     ]
    }
   ],
   "source": [
    "n = list(d.keys())\n",
    "h = [180, 172, 158, 160, 168, 154, 176, 182, 160, 155]\n",
    "w = [85, 72, 51, 49, 70, 55, 69, 77, 64, 57]\n",
    "\n",
    "print(n)\n",
    "print(h)\n",
    "print(w)"
   ]
  },
  {
   "cell_type": "code",
   "execution_count": 8,
   "metadata": {},
   "outputs": [
    {
     "name": "stdout",
     "output_type": "stream",
     "text": [
      "Larry's height: 160cm, weight: 64kg\n"
     ]
    }
   ],
   "source": [
    "i = -2\n",
    "print(f'{n[i]}\\'s height: {h[i]}cm, weight: {w[i]}kg')"
   ]
  },
  {
   "cell_type": "code",
   "execution_count": null,
   "metadata": {},
   "outputs": [],
   "source": []
  }
 ],
 "metadata": {
  "kernelspec": {
   "display_name": "Python 3",
   "language": "python",
   "name": "python3"
  },
  "language_info": {
   "codemirror_mode": {
    "name": "ipython",
    "version": 3
   },
   "file_extension": ".py",
   "mimetype": "text/x-python",
   "name": "python",
   "nbconvert_exporter": "python",
   "pygments_lexer": "ipython3",
   "version": "3.6.8"
  }
 },
 "nbformat": 4,
 "nbformat_minor": 2
}
