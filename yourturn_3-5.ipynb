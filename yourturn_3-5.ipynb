{
 "cells": [
  {
   "cell_type": "code",
   "execution_count": 3,
   "metadata": {},
   "outputs": [
    {
     "name": "stdout",
     "output_type": "stream",
     "text": [
      "['trees\\\\train\\\\tree\\\\AS', 'trees\\\\train\\\\tree\\\\BJ', 'trees\\\\train\\\\tree\\\\CC', 'trees\\\\train\\\\tree\\\\DR', 'trees\\\\train\\\\tree\\\\FM', 'trees\\\\train\\\\tree\\\\KE', 'trees\\\\train\\\\tree\\\\LF', 'trees\\\\train\\\\tree\\\\MA', 'trees\\\\train\\\\tree\\\\MI', 'trees\\\\train\\\\tree\\\\MP', 'trees\\\\train\\\\tree\\\\PC', 'trees\\\\train\\\\tree\\\\RR', 'trees\\\\train\\\\tree\\\\TC', 'trees\\\\train\\\\tree\\\\TM']\n"
     ]
    }
   ],
   "source": [
    "import glob\n",
    "\n",
    "path_w = os.path.join('trees', 'train', 'tree', '*')\n",
    "cats = glob.glob(path_w)\n",
    "print(cats)"
   ]
  },
  {
   "cell_type": "code",
   "execution_count": 4,
   "metadata": {},
   "outputs": [
    {
     "name": "stdout",
     "output_type": "stream",
     "text": [
      "AS:  96\n",
      "BJ: 164\n",
      "CC: 201\n",
      "DR: 105\n",
      "FM: 295\n",
      "KE: 203\n",
      "LF: 150\n",
      "MA:  56\n",
      "MI: 100\n",
      "MP:  68\n",
      "PC: 105\n",
      "RR:  68\n",
      "TC:  62\n",
      "TM: 170\n"
     ]
    }
   ],
   "source": [
    "for c in cats:\n",
    "    file_w = os.path.join(c, '*.jpg')\n",
    "    files = glob.glob(file_w)\n",
    "    name = c.split(os.path.sep)[-1]\n",
    "    print(f'{name}: {len(files):3}')"
   ]
  },
  {
   "cell_type": "code",
   "execution_count": null,
   "metadata": {},
   "outputs": [],
   "source": []
  }
 ],
 "metadata": {
  "kernelspec": {
   "display_name": "Python 3",
   "language": "python",
   "name": "python3"
  },
  "language_info": {
   "codemirror_mode": {
    "name": "ipython",
    "version": 3
   },
   "file_extension": ".py",
   "mimetype": "text/x-python",
   "name": "python",
   "nbconvert_exporter": "python",
   "pygments_lexer": "ipython3",
   "version": "3.6.8"
  }
 },
 "nbformat": 4,
 "nbformat_minor": 2
}
