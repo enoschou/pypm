{
 "cells": [
  {
   "cell_type": "code",
   "execution_count": 3,
   "metadata": {},
   "outputs": [
    {
     "name": "stdout",
     "output_type": "stream",
     "text": [
      "T-ara 7\n",
      "BLACKPINK 4\n",
      "Wonder Girls 5\n",
      "TWICE 9\n",
      "{'T-ara': 7, 'BLACKPINK': 4, 'Wonder Girls': 5, 'TWICE': 9}\n"
     ]
    }
   ],
   "source": [
    "s = ['T-ara', 'BLACKPINK', 'Wonder Girls', 'TWICE']\n",
    "f = [7, 4, 5, 9]\n",
    "d = {}\n",
    "for a, b in zip(s, f):\n",
    "    d[a] = b\n",
    "    print(a, b)\n",
    "print(d)"
   ]
  },
  {
   "cell_type": "code",
   "execution_count": 4,
   "metadata": {},
   "outputs": [
    {
     "name": "stdout",
     "output_type": "stream",
     "text": [
      "T-ara 7\n",
      "BLACKPINK 4\n",
      "Wonder Girls 5\n",
      "TWICE 9\n",
      "{'T-ara': 7, 'BLACKPINK': 4, 'Wonder Girls': 5, 'TWICE': 9}\n"
     ]
    }
   ],
   "source": [
    "s = ['T-ara', 'BLACKPINK', 'Wonder Girls', 'TWICE']\n",
    "f = [7, 4, 5, 9]\n",
    "d = dict(zip(s, f))\n",
    "for x in d:\n",
    "    print(x, d[x])\n",
    "print(d)"
   ]
  },
  {
   "cell_type": "code",
   "execution_count": null,
   "metadata": {},
   "outputs": [],
   "source": []
  }
 ],
 "metadata": {
  "kernelspec": {
   "display_name": "Python 3",
   "language": "python",
   "name": "python3"
  },
  "language_info": {
   "codemirror_mode": {
    "name": "ipython",
    "version": 3
   },
   "file_extension": ".py",
   "mimetype": "text/x-python",
   "name": "python",
   "nbconvert_exporter": "python",
   "pygments_lexer": "ipython3",
   "version": "3.6.8"
  }
 },
 "nbformat": 4,
 "nbformat_minor": 2
}
