{
 "cells": [
  {
   "cell_type": "code",
   "execution_count": 1,
   "metadata": {},
   "outputs": [],
   "source": [
    "def egfr(creatinine, gender, age):\n",
    "    val = 186 * (creatinine ** -1.154) * (age ** -0.203)\n",
    "    \n",
    "    if gender.lower() in ['male', 'm']:\n",
    "        return val\n",
    "    if gender.lower() in ['female', 'f']:\n",
    "        return val * 0.742\n",
    "    \n",
    "    return None\n",
    "\n",
    "def stage(egfr):\n",
    "    if egfr >= 100:\n",
    "        return 0\n",
    "    if egfr >= 90:\n",
    "        return 1\n",
    "    if egfr >= 60:\n",
    "        return 2\n",
    "    if egfr >= 30:\n",
    "        return 3\n",
    "    if egfr >= 15:\n",
    "        return 4\n",
    "        \n",
    "    return 5"
   ]
  },
  {
   "cell_type": "code",
   "execution_count": 2,
   "metadata": {},
   "outputs": [
    {
     "name": "stdout",
     "output_type": "stream",
     "text": [
      "性別 (f / m)： m\n",
      "年齡： 21\n",
      "血清肌酸酐(mg/dL)： 1.02\n"
     ]
    }
   ],
   "source": [
    "gen = input('性別 (f / m)： ')\n",
    "age = input('年齡： ')\n",
    "cre = input('血清肌酸酐(mg/dL)： ')"
   ]
  },
  {
   "cell_type": "code",
   "execution_count": 3,
   "metadata": {},
   "outputs": [
    {
     "name": "stdout",
     "output_type": "stream",
     "text": [
      "男性，21 歲，血清肌酸酐 1.02 mg/dL ==> eGFR 97.989 mL/min/1.73m2\n",
      "腎臟病第 1 期\n"
     ]
    }
   ],
   "source": [
    "d = {'m': '男性', 'f': '女性'}\n",
    "v = egfr(float(cre), gen, int(age))\n",
    "print(f'{d[gen]}，{age} 歲，血清肌酸酐 {cre} mg/dL ==> eGFR {v:.3f} mL/min/1.73m2')\n",
    "print(f'腎臟病第 {stage(v)} 期')"
   ]
  }
 ],
 "metadata": {
  "kernelspec": {
   "display_name": "Python 3",
   "language": "python",
   "name": "python3"
  },
  "language_info": {
   "codemirror_mode": {
    "name": "ipython",
    "version": 3
   },
   "file_extension": ".py",
   "mimetype": "text/x-python",
   "name": "python",
   "nbconvert_exporter": "python",
   "pygments_lexer": "ipython3",
   "version": "3.6.8"
  }
 },
 "nbformat": 4,
 "nbformat_minor": 2
}
