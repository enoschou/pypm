{
 "cells": [
  {
   "cell_type": "code",
   "execution_count": null,
   "metadata": {},
   "outputs": [],
   "source": [
    "import os\n",
    "from glob import glob\n",
    "\n",
    "class TreesCounter1:\n",
    "    _paths = None\n",
    "    \n",
    "    def __init__(self, paths):\n",
    "        self._paths = [p for p in paths]\n",
    "\n",
    "    def count(self, stage, model, category):\n",
    "        count = 0\n",
    "        for p in self._paths:\n",
    "            w = os.path.join(p, stage, model, category, '*.jpg')\n",
    "            count += len(glob(w))\n",
    "        \n",
    "        return count\n",
    "    \n",
    "t1 = TreesCounter1(['trees'])\n",
    "print(f\"tree DR: {t1.count('train', 'tree', 'DR')}\")\n",
    "print(f\"leaf AE: {t1.count('train', 'leaf', 'AE')}\")"
   ]
  }
 ],
 "metadata": {
  "kernelspec": {
   "display_name": "Python 3",
   "language": "python",
   "name": "python3"
  },
  "language_info": {
   "codemirror_mode": {
    "name": "ipython",
    "version": 3
   },
   "file_extension": ".py",
   "mimetype": "text/x-python",
   "name": "python",
   "nbconvert_exporter": "python",
   "pygments_lexer": "ipython3",
   "version": "3.6.8"
  }
 },
 "nbformat": 4,
 "nbformat_minor": 2
}
