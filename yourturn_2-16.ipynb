{
 "cells": [
  {
   "cell_type": "markdown",
   "metadata": {},
   "source": [
    "## 1"
   ]
  },
  {
   "cell_type": "code",
   "execution_count": 6,
   "metadata": {},
   "outputs": [
    {
     "name": "stdout",
     "output_type": "stream",
     "text": [
      "We've got Wonder Girls of 5 people\n"
     ]
    }
   ],
   "source": [
    "s = ['T-ara', 'BLACKPINK', 'Wonder Girls', 'TWICE']\n",
    "f = [7, 4, 5, 9]\n",
    "\n",
    "i = 0\n",
    "found = False\n",
    "while not found and i < len(s):\n",
    "    if f[i] == 5:\n",
    "        found = True\n",
    "    else:\n",
    "        i += 1\n",
    "\n",
    "if found:\n",
    "    print(f'We\\'ve got {s[i]} of {f[i]} people')\n",
    "else:\n",
    "    print('We found nothing!')"
   ]
  },
  {
   "cell_type": "markdown",
   "metadata": {},
   "source": [
    "## 2"
   ]
  },
  {
   "cell_type": "code",
   "execution_count": 1,
   "metadata": {},
   "outputs": [
    {
     "name": "stdout",
     "output_type": "stream",
     "text": [
      "got John\n"
     ]
    }
   ],
   "source": [
    "name = ['David', 'John', 'Mary']\n",
    "target = 'John'\n",
    "found = False\n",
    "\n",
    "for n in name:\n",
    "    if n == target:\n",
    "        found = True\n",
    "        break\n",
    "    \n",
    "if found:\n",
    "    print(f'got {target}')\n",
    "else:\n",
    "    print(f'{target} not found')"
   ]
  },
  {
   "cell_type": "code",
   "execution_count": null,
   "metadata": {},
   "outputs": [],
   "source": []
  }
 ],
 "metadata": {
  "kernelspec": {
   "display_name": "Python 3",
   "language": "python",
   "name": "python3"
  },
  "language_info": {
   "codemirror_mode": {
    "name": "ipython",
    "version": 3
   },
   "file_extension": ".py",
   "mimetype": "text/x-python",
   "name": "python",
   "nbconvert_exporter": "python",
   "pygments_lexer": "ipython3",
   "version": "3.6.8"
  }
 },
 "nbformat": 4,
 "nbformat_minor": 2
}
