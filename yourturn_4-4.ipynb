{
 "cells": [
  {
   "cell_type": "code",
   "execution_count": 4,
   "metadata": {},
   "outputs": [],
   "source": [
    "class CKDStager:\n",
    "    \n",
    "    def __init__(self):\n",
    "        self._stages = [100, 90, 60, 30, 15, 0]\n",
    "    \n",
    "    def stage(self, creatinine, gender, age):\n",
    "        egfr = self.egfr(creatinine, gender, age)\n",
    "        for i, v in enumerate(self._stages):\n",
    "            if egfr >= v:\n",
    "                return i, egfr\n",
    "    \n",
    "    def egfr(self, creatinine, gender, age):\n",
    "        e = 186 * (creatinine ** -1.154) * (age ** -0.203)\n",
    "    \n",
    "        return e if gender.lower() in ['male', 'm'] else e * 0.742"
   ]
  },
  {
   "cell_type": "code",
   "execution_count": 5,
   "metadata": {},
   "outputs": [
    {
     "name": "stderr",
     "output_type": "stream",
     "text": [
      "usage: ipykernel_launcher.py [-h] -g {m,f} -a AGE -c CREATININE [-q {1,2}]\n",
      "ipykernel_launcher.py: error: the following arguments are required: -g/--gender, -a/--age, -c/--creatinine\n"
     ]
    },
    {
     "ename": "SystemExit",
     "evalue": "2",
     "output_type": "error",
     "traceback": [
      "An exception has occurred, use %tb to see the full traceback.\n",
      "\u001b[1;31mSystemExit\u001b[0m\u001b[1;31m:\u001b[0m 2\n"
     ]
    }
   ],
   "source": [
    "from sys import argv\n",
    "import argparse\n",
    "\n",
    "parser = argparse.ArgumentParser()\n",
    "parser.add_argument('-g', '--gender', type=str, required=True, choices=['m', 'f'])\n",
    "parser.add_argument('-a', '--age', type=int, required=True)\n",
    "parser.add_argument('-c', '--creatinine', type=float, required=True)  \n",
    "parser.add_argument('-q', '--query', type=int, default=1, choices=[1, 2], help='1:分臟病分期, 2:eGFR') \n",
    "\n",
    "args = parser.parse_args()\n",
    "\n",
    "d = {'m':'男性', 'f':'女性'}\n",
    "c = CKDStager()\n",
    "if args.query == 1:\n",
    "    s, e = c.stage(args.creatinine, args.gender, args.age)\n",
    "    print(f'{d[args.gender]}，{args.age} 歲，血清肌酸酐 {args.creatinine} mg/dL ==> eGFR {e:.3f} mL/min/1.73m2')\n",
    "    print(f'腎臟病第 {s} 期')\n",
    "elif args.query == 2:\n",
    "    e = c.egfr(args.creatinine, args.gender, args.age)\n",
    "    print(f'{d[args.gender]}，{args.age} 歲，血清肌酸酐 {args.creatinine} mg/dL ==> eGFR {e:.3f} mL/min/1.73m2')"
   ]
  },
  {
   "cell_type": "code",
   "execution_count": null,
   "metadata": {},
   "outputs": [],
   "source": []
  }
 ],
 "metadata": {
  "kernelspec": {
   "display_name": "Python 3",
   "language": "python",
   "name": "python3"
  },
  "language_info": {
   "codemirror_mode": {
    "name": "ipython",
    "version": 3
   },
   "file_extension": ".py",
   "mimetype": "text/x-python",
   "name": "python",
   "nbconvert_exporter": "python",
   "pygments_lexer": "ipython3",
   "version": "3.6.8"
  }
 },
 "nbformat": 4,
 "nbformat_minor": 2
}
