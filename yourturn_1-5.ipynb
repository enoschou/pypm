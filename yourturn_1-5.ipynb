{
 "cells": [
  {
   "cell_type": "markdown",
   "metadata": {},
   "source": [
    "## 1"
   ]
  },
  {
   "cell_type": "code",
   "execution_count": 1,
   "metadata": {},
   "outputs": [
    {
     "name": "stdout",
     "output_type": "stream",
     "text": [
      "祖沖之在公元 0480 年計算圓周率為 3.1415926，算至小數點後 5 位為 3.14159\n"
     ]
    }
   ],
   "source": [
    "name = '祖沖之'\n",
    "pi = 3.1415926\n",
    "year = 480\n",
    "digit = 5\n",
    "\n",
    "print(f'{name}在公元 {year:04d} 年計算圓周率為 {pi}，算至小數點後 {digit} 位為 {pi:.{digit}f}')"
   ]
  },
  {
   "cell_type": "markdown",
   "metadata": {},
   "source": [
    "## 2"
   ]
  },
  {
   "cell_type": "code",
   "execution_count": 2,
   "metadata": {},
   "outputs": [
    {
     "name": "stdout",
     "output_type": "stream",
     "text": [
      "index    : 002\n",
      "name     : Mary\n",
      "sex      : Female\n",
      "age      : 34\n",
      "price    : 432.23\n",
      "level    : 3\n",
      "port     : C\n",
      "surviving: 1\n"
     ]
    }
   ],
   "source": [
    "title = 'index|name|sex|age|price|level|port|surviving'\n",
    "text = '002|Mary|Female|34|432.23|3|C|1'\n",
    "\n",
    "a = title.split('|')\n",
    "b = text.split('|')\n",
    "\n",
    "print(f'{a[0]:9}: {b[0]}')\n",
    "print(f'{a[1]:9}: {b[1]}')\n",
    "print(f'{a[2]:9}: {b[2]}')\n",
    "print(f'{a[3]:9}: {b[3]}')\n",
    "print(f'{a[4]:9}: {b[4]}')\n",
    "print(f'{a[5]:9}: {b[5]}')\n",
    "print(f'{a[6]:9}: {b[6]}')\n",
    "print(f'{a[7]:9}: {b[7]}')"
   ]
  },
  {
   "cell_type": "markdown",
   "metadata": {},
   "source": [
    "## 3"
   ]
  },
  {
   "cell_type": "code",
   "execution_count": 3,
   "metadata": {},
   "outputs": [
    {
     "ename": "SyntaxError",
     "evalue": "invalid syntax (<ipython-input-3-314d7eb4a0aa>, line 1)",
     "output_type": "error",
     "traceback": [
      "\u001b[1;36m  File \u001b[1;32m\"<ipython-input-3-314d7eb4a0aa>\"\u001b[1;36m, line \u001b[1;32m1\u001b[0m\n\u001b[1;33m    print('I like 'Python' very much!')\u001b[0m\n\u001b[1;37m                        ^\u001b[0m\n\u001b[1;31mSyntaxError\u001b[0m\u001b[1;31m:\u001b[0m invalid syntax\n"
     ]
    }
   ],
   "source": [
    "print('I like 'Python' very much!')"
   ]
  },
  {
   "cell_type": "code",
   "execution_count": 4,
   "metadata": {},
   "outputs": [
    {
     "name": "stdout",
     "output_type": "stream",
     "text": [
      "I like 'Python' very much!\n"
     ]
    }
   ],
   "source": [
    "print(\"I like 'Python' very much!\")"
   ]
  },
  {
   "cell_type": "code",
   "execution_count": 5,
   "metadata": {},
   "outputs": [
    {
     "name": "stdout",
     "output_type": "stream",
     "text": [
      "I like 'Python' very much!\n"
     ]
    }
   ],
   "source": [
    "print('I like \\'Python\\' very much!')"
   ]
  },
  {
   "cell_type": "code",
   "execution_count": null,
   "metadata": {},
   "outputs": [],
   "source": []
  }
 ],
 "metadata": {
  "kernelspec": {
   "display_name": "Python 3",
   "language": "python",
   "name": "python3"
  },
  "language_info": {
   "codemirror_mode": {
    "name": "ipython",
    "version": 3
   },
   "file_extension": ".py",
   "mimetype": "text/x-python",
   "name": "python",
   "nbconvert_exporter": "python",
   "pygments_lexer": "ipython3",
   "version": "3.6.8"
  }
 },
 "nbformat": 4,
 "nbformat_minor": 2
}
