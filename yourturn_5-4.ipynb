{
 "cells": [
  {
   "cell_type": "code",
   "execution_count": 1,
   "id": "8def99dc",
   "metadata": {},
   "outputs": [],
   "source": [
    "import requests\n",
    "from bs4 import BeautifulSoup\n",
    "\n",
    "class WeaG:\n",
    "    \n",
    "    def __init__(self):\n",
    "        self._url = 'https://www.cwb.gov.tw/V8/C/W/Observe/MOD/24hr/TBD.html'\n",
    "        self._load()\n",
    "    \n",
    "    def grab(self, location):\n",
    "        rtn = {}\n",
    "        if location in self._sites:\n",
    "            url = self._url.replace('TBD', self._sites[location])\n",
    "            r = requests.get(url)\n",
    "            rtn = {}\n",
    "            if r.status_code == 200:\n",
    "                soup = BeautifulSoup(r.text, 'html.parser')\n",
    "                rtn['O'] = soup.find(headers=\"time\").text\n",
    "                rtn['T'] = float(soup.find(headers=\"temp\").find('span').text)\n",
    "                rtn['H'] = float(soup.find(headers=\"hum\").text)/100\n",
    "                rtn['R'] = float(soup.find(headers=\"rain\").text)\n",
    "            \n",
    "        return rtn\n",
    "    \n",
    "    def _load(self):\n",
    "        url = 'https://www.cwb.gov.tw/Data/js/Observe/OSM/C/STMap.json'\n",
    "        j = requests.get(url)\n",
    "        self._sites = {i['STname']: i['ID'] for i in j.json()} if j.status_code == 200 else {}"
   ]
  },
  {
   "cell_type": "code",
   "execution_count": 2,
   "id": "ed239cb2",
   "metadata": {},
   "outputs": [
    {
     "name": "stderr",
     "output_type": "stream",
     "text": [
      "usage: ipykernel_launcher.py [-h] location\n",
      "ipykernel_launcher.py: error: the following arguments are required: location\n"
     ]
    },
    {
     "ename": "SystemExit",
     "evalue": "2",
     "output_type": "error",
     "traceback": [
      "An exception has occurred, use %tb to see the full traceback.\n",
      "\u001b[1;31mSystemExit\u001b[0m\u001b[1;31m:\u001b[0m 2\n"
     ]
    },
    {
     "name": "stderr",
     "output_type": "stream",
     "text": [
      "c:\\users\\enos\\appdata\\local\\programs\\python\\python36\\lib\\site-packages\\IPython\\core\\interactiveshell.py:3275: UserWarning: To exit: use 'exit', 'quit', or Ctrl-D.\n",
      "  warn(\"To exit: use 'exit', 'quit', or Ctrl-D.\", stacklevel=1)\n"
     ]
    }
   ],
   "source": [
    "if __name__ == '__main__':\n",
    "    from sys import argv\n",
    "    import argparse\n",
    "\n",
    "    parser = argparse.ArgumentParser()\n",
    "    parser.add_argument('location', help='location weather to be grabbed')\n",
    "    \n",
    "    # avoid jupyter notebook exception\n",
    "    if argv[0][-21:] == 'ipykernel_launcher.py':\n",
    "        args = parser.parse_args(args=[])\n",
    "    else:\n",
    "        args = parser.parse_args()\n",
    "    \n",
    "    w = WeaG()\n",
    "    r = w.grab(args.location)\n",
    "    if r:\n",
    "        print(f'{args.location} 觀測時間: {r[\"O\"]} 溫度: {r[\"T\"]:.1f}度C, 濕度: {r[\"H\"]:.0%}, 雨量: {r[\"R\"]:.1f}mm')\n",
    "    else:\n",
    "        print(f'{args.location} 查無此站！')"
   ]
  },
  {
   "cell_type": "code",
   "execution_count": null,
   "id": "465b82b8",
   "metadata": {},
   "outputs": [],
   "source": []
  }
 ],
 "metadata": {
  "kernelspec": {
   "display_name": "Python 3",
   "language": "python",
   "name": "python3"
  },
  "language_info": {
   "codemirror_mode": {
    "name": "ipython",
    "version": 3
   },
   "file_extension": ".py",
   "mimetype": "text/x-python",
   "name": "python",
   "nbconvert_exporter": "python",
   "pygments_lexer": "ipython3",
   "version": "3.6.8"
  }
 },
 "nbformat": 4,
 "nbformat_minor": 5
}
