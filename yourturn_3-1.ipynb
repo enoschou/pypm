{
 "cells": [
  {
   "cell_type": "code",
   "execution_count": 1,
   "metadata": {},
   "outputs": [
    {
     "name": "stdout",
     "output_type": "stream",
     "text": [
      "method 1: by randint - 9.638 secs\n",
      "method 2: by choices - 2.991 secs\n"
     ]
    }
   ],
   "source": [
    "import random\n",
    "import time\n",
    "\n",
    "c = 10000000\n",
    "\n",
    "start = time.time()\n",
    "x = [random.randint(0, 1000) for i in range(c)]\n",
    "print(f'method 1: by randint - {time.time()-start:.3f} secs')\n",
    "\n",
    "start = time.time()\n",
    "x = random.choices(range(0, 1000), k=c)\n",
    "print(f'method 2: by choices - {time.time()-start:.3f} secs')"
   ]
  }
 ],
 "metadata": {
  "kernelspec": {
   "display_name": "Python 3",
   "language": "python",
   "name": "python3"
  },
  "language_info": {
   "codemirror_mode": {
    "name": "ipython",
    "version": 3
   },
   "file_extension": ".py",
   "mimetype": "text/x-python",
   "name": "python",
   "nbconvert_exporter": "python",
   "pygments_lexer": "ipython3",
   "version": "3.6.8"
  }
 },
 "nbformat": 4,
 "nbformat_minor": 2
}
