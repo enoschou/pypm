{
 "cells": [
  {
   "cell_type": "markdown",
   "metadata": {},
   "source": [
    "## Run Python 3"
   ]
  },
  {
   "cell_type": "code",
   "execution_count": null,
   "metadata": {},
   "outputs": [],
   "source": [
    "import os\n",
    "from glob import glob\n",
    "\n",
    "class TreesCounter2:\n",
    "\n",
    "    @staticmethod\n",
    "    def count(paths, stage, model, category):\n",
    "        count = 0\n",
    "        for p in paths:\n",
    "            w = os.path.join(p, stage, model, category, '*.jpg')\n",
    "            count += len(glob(w))\n",
    "        \n",
    "        return count"
   ]
  },
  {
   "cell_type": "code",
   "execution_count": null,
   "metadata": {},
   "outputs": [],
   "source": [
    "from sys import argv\n",
    "import argparse\n",
    "\n",
    "parser = argparse.ArgumentParser()\n",
    "parser.add_argument('-p', '--path', type=str, required=True)\n",
    "parser.add_argument('-s', '--stage', type=str, required=True, choices=['train', 'test'])\n",
    "parser.add_argument('-m', '--model', type=str, required=True, choices=['tree', 'leaf'])  \n",
    "parser.add_argument('-c', '--category', type=str, required=True) \n",
    "\n",
    "args = parser.parse_args()"
   ]
  },
  {
   "cell_type": "code",
   "execution_count": null,
   "metadata": {},
   "outputs": [],
   "source": [
    "print(f'{args.model} {args.category}: {TreesCounter2.count([args.path], args.stage, args.model ,args.category)}')"
   ]
  },
  {
   "cell_type": "code",
   "execution_count": null,
   "metadata": {},
   "outputs": [],
   "source": []
  }
 ],
 "metadata": {
  "kernelspec": {
   "display_name": "Python 3",
   "language": "python",
   "name": "python3"
  },
  "language_info": {
   "codemirror_mode": {
    "name": "ipython",
    "version": 3
   },
   "file_extension": ".py",
   "mimetype": "text/x-python",
   "name": "python",
   "nbconvert_exporter": "python",
   "pygments_lexer": "ipython3",
   "version": "3.6.8"
  }
 },
 "nbformat": 4,
 "nbformat_minor": 2
}
