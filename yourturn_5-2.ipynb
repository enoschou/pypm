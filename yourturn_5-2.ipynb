{
 "cells": [
  {
   "cell_type": "code",
   "execution_count": 1,
   "metadata": {},
   "outputs": [],
   "source": [
    "import requests, json\n",
    "\n",
    "class WeaG:\n",
    "    \n",
    "    def __init__(self, key):\n",
    "        self.URL = 'https://opendata.cwb.gov.tw/api/v1/rest/datastore/'\n",
    "        self.DATAID = ['O-A0001-001', 'O-A0003-001']\n",
    "        self.API = [f'{self.URL}/{d}' for d in self.DATAID]\n",
    "        self.AUTH = key\n",
    "        self.ELEMENTS = [{'T':'TEMP','H':'HUMD','R':'H_24R'}, {'T':'TEMP','H':'HUMD','R':'24R'}]\n",
    "        self.PARAMS = [{'Authorization': self.AUTH, 'elementName': ','.join(e.values())}\n",
    "                       for e in self.ELEMENTS]\n",
    "    \n",
    "    def grab(self, location):\n",
    "        for i, api in enumerate(self.API):\n",
    "            p = self.PARAMS[i]\n",
    "            p['locationName'] = location\n",
    "            r = requests.get(api, params=p)\n",
    "            if r.status_code == 200:\n",
    "                j = json.loads(r.text)\n",
    "                r.close()\n",
    "                locs = j['records']['location']\n",
    "                wea = self._extract(location, locs, self.ELEMENTS[i])\n",
    "                if wea:\n",
    "                    return wea\n",
    "            else:\n",
    "                r.close()\n",
    "        \n",
    "        return None\n",
    "    \n",
    "    def _extract(self, location, locations, elements):\n",
    "        for loc in locations:\n",
    "            r = {}\n",
    "            if loc['locationName'] == location:\n",
    "                r['O'] = loc['time']['obsTime']\n",
    "                for ename in loc['weatherElement']:\n",
    "                    for e in elements:\n",
    "                        if ename['elementName'] == elements[e]:\n",
    "                            r[e] = float(ename['elementValue'])\n",
    "                            break\n",
    "                return r\n",
    "\n",
    "        return None"
   ]
  },
  {
   "cell_type": "code",
   "execution_count": 2,
   "metadata": {},
   "outputs": [
    {
     "name": "stderr",
     "output_type": "stream",
     "text": [
      "usage: ipykernel_launcher.py [-h] location\n",
      "ipykernel_launcher.py: error: unrecognized arguments: -f\n"
     ]
    },
    {
     "ename": "SystemExit",
     "evalue": "2",
     "output_type": "error",
     "traceback": [
      "An exception has occurred, use %tb to see the full traceback.\n",
      "\u001b[1;31mSystemExit\u001b[0m\u001b[1;31m:\u001b[0m 2\n"
     ]
    },
    {
     "name": "stderr",
     "output_type": "stream",
     "text": [
      "c:\\users\\enos\\appdata\\local\\programs\\python\\python36\\lib\\site-packages\\IPython\\core\\interactiveshell.py:3275: UserWarning: To exit: use 'exit', 'quit', or Ctrl-D.\n",
      "  warn(\"To exit: use 'exit', 'quit', or Ctrl-D.\", stacklevel=1)\n"
     ]
    }
   ],
   "source": [
    "if __name__ == '__main__':\n",
    "    from sys import argv\n",
    "    import argparse\n",
    "\n",
    "    parser = argparse.ArgumentParser()\n",
    "    parser.add_argument('location', help='location weather to be grabbed')\n",
    "    parser.add_argument('-k', '--key', type=str, required=True, help='氣象局授權碼')\n",
    "    args = parser.parse_args()\n",
    "    \n",
    "    w = WeaG(args.key)\n",
    "    r = w.grab(args.location)\n",
    "    if r:\n",
    "        print(f'{args.location} 觀測時間: {r[\"O\"]} 溫度: {r[\"T\"]:.1f}度C, 濕度: {r[\"H\"]:.0%}, 雨量: {r[\"R\"]:.1f}mm')\n",
    "    else:\n",
    "        print(f'{args.location} 查無此站！')"
   ]
  }
 ],
 "metadata": {
  "kernelspec": {
   "display_name": "Python 3",
   "language": "python",
   "name": "python3"
  },
  "language_info": {
   "codemirror_mode": {
    "name": "ipython",
    "version": 3
   },
   "file_extension": ".py",
   "mimetype": "text/x-python",
   "name": "python",
   "nbconvert_exporter": "python",
   "pygments_lexer": "ipython3",
   "version": "3.6.8"
  }
 },
 "nbformat": 4,
 "nbformat_minor": 2
}
